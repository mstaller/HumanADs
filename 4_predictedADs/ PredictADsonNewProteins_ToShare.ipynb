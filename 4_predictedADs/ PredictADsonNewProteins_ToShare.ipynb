{
 "cells": [
  {
   "cell_type": "markdown",
   "metadata": {
    "deletable": true,
    "editable": true
   },
   "source": [
    "# Predict ADs on new TFs\n",
    "Cleaned up 20210502 and 20210503 \n",
    "Max Staller\n",
    "mstaller@berkeley.edu\n",
    "\n",
    "- \"makeTilingDF\" part takes the input TF list, chops into 39 AA 'tiles' spaced every 1 AA.\n",
    "- It also computes some parameters on each 39 AA tile.\n",
    "- In parrallel, \"makeFullLengthProteinDF\" builds a DataFrame of full length TFs. It uses this later to combine overlapping tiles\n",
    "\n",
    "- Next, \"ThresholdProteome_withaLine\" identifies the 'tiles' that balance acidic and hydrophobic resiudes similarly to VP16 and CITED2. This is the section that plan to improve in summer 2021. \n",
    "\n",
    "- \"maskproteome\" is the helper function that runs \"ThresholdProteome_withaLine.\" It is left over from when we were trying different iterations/modifications of the predictor. \n",
    "- Finally, \"AggregateTilesIntoPredictedADs\" combines the tiles into predicted ADs. Note it has on occasion messed up but I think it is fixed now. "
   ]
  },
  {
   "cell_type": "code",
   "execution_count": 1,
   "metadata": {
    "collapsed": false,
    "deletable": true,
    "editable": true
   },
   "outputs": [],
   "source": [
    "import pandas as pd\n",
    "import numpy as np\n",
    "import matplotlib.pyplot as plt\n",
    "import scipy\n",
    "from scipy import stats\n",
    "import warnings\n",
    "warnings.filterwarnings('ignore')\n",
    "import os\n",
    "import operator\n",
    "\n",
    "\n",
    "import matplotlib\n",
    "import pickle\n",
    "lightblue , darkblue, lightgreen, darkgreen, pink =  '#a6cee3','#1f78b4','#b2df8a','#33a02c','#fb9a99'\n",
    "matplotlib.rcParams['pdf.fonttype'] = 42\n",
    "matplotlib.rcParams['ps.fonttype'] = 42\n"
   ]
  },
  {
   "cell_type": "markdown",
   "metadata": {
    "collapsed": false,
    "deletable": true,
    "editable": true
   },
   "source": [
    "# Master control variables (input and output files)"
   ]
  },
  {
   "cell_type": "code",
   "execution_count": 2,
   "metadata": {
    "collapsed": false,
    "deletable": true,
    "editable": true
   },
   "outputs": [
    {
     "name": "stdout",
     "output_type": "stream",
     "text": [
      "Figures folder exists\n"
     ]
    }
   ],
   "source": [
    "########\n",
    "# Fasta File with proteins to scan for activation domains\n",
    "inputfilename = 'SupportFiles/test.fasta'\n",
    "# inputfilename = 'SupportFiles/ncGRN_protfasta.txt'\n",
    "# inputfilename = 'SupportFiles/LambertTFs.fasta' # all human TFs THIS IS SLOW TO RUN\n",
    "\n",
    "# File to save output predicted AD sequences\n",
    "exportfilename = 'output_predicted_activation_domains.csv'\n",
    "\n",
    "\n",
    "\n",
    "### make the output folder\n",
    "if (os.path.isdir('Output/')):\n",
    "    print 'Figures folder exists'\n",
    "else:\n",
    "    os.mkdir('Output')"
   ]
  },
  {
   "cell_type": "markdown",
   "metadata": {
    "deletable": true,
    "editable": true
   },
   "source": [
    "# Functions\n"
   ]
  },
  {
   "cell_type": "code",
   "execution_count": 3,
   "metadata": {
    "collapsed": false,
    "deletable": true,
    "editable": true
   },
   "outputs": [],
   "source": [
    "# extract 39 AA windows from all TFs in a FASTA file\n",
    "def makeTilingDF(inputfilename,WindowSize = 39, WindowSpacing = 1,AAs = ['W','F','Y','M','L','Q']):\n",
    "    #open file\n",
    "    myfile  = open(inputfilename,'r')\n",
    "    Orthologs = myfile.readlines()\n",
    "    myfile.close()\n",
    "    \n",
    "    TilingWindows,ProteinNames,IUpredScores,Npos,Cpos = [],[],[],[],[]\n",
    "\n",
    "    for line in Orthologs:\n",
    "        if line[0] == \">\": # focus on protein sequences\n",
    "            name = line.strip()#.split('|')[2]\n",
    "        else: # focus on protein sequences\n",
    "            line =line.strip()\n",
    "            line =line.upper()\n",
    "            # take tilingwindows\n",
    "            if len(line)<WindowSize:\n",
    "                subset = line\n",
    "                Npos.append(0),Cpos.append(len(line))\n",
    "                #print subset\n",
    "                TilingWindows.append(subset)\n",
    "                ProteinNames.append(name)\n",
    "                IUpredScores.append(np.mean(IUpredVector))\n",
    "            else:\n",
    "                for i in xrange(0,len(line)-WindowSize+WindowSpacing,WindowSpacing):\n",
    "                    subset = line[i:i+WindowSize]\n",
    "                    Npos.append(i),Cpos.append(i+WindowSize)\n",
    "                    #print subset\n",
    "                    TilingWindows.append(subset)\n",
    "                    ProteinNames.append(name)\n",
    "    print \"Window Size = %i  and Window spacing = %i\" % (WindowSize, WindowSpacing)\n",
    "    print \"Number of Tiling Windows: %i\" %len(TilingWindows)\n",
    "\n",
    "    ProteomeDF = pd.DataFrame({'ProteinWindowSeq':TilingWindows,'GeneName':ProteinNames,\n",
    "                              'StartPosition':Npos,'EndPosition':Cpos})\n",
    "    ## add #count important AAs\n",
    "    for aa in AAs:\n",
    "        ProteomeDF[aa]= ProteomeDF.apply(lambda row: row['ProteinWindowSeq'].count(aa),axis=1)\n",
    "    #compute net charge\n",
    "    ProteomeDF['Charge'] = ProteomeDF.apply(lambda row: row['ProteinWindowSeq'].count('K')+row['ProteinWindowSeq'].count('R')-row['ProteinWindowSeq'].count('D')-row['ProteinWindowSeq'].count('E'),axis=1)\n",
    "                                        \n",
    "    return ProteomeDF\n",
    "\n",
    "# also make a DF with full length protein sequences\n",
    "def makeFullLengthProteinDF(inputfilename):\n",
    "    #open file\n",
    "    myfile  = open(inputfilename,'r')\n",
    "    ProteinList = myfile.readlines()\n",
    "    myfile.close()\n",
    "    \n",
    "    ProteinSeqs,ProteinNames = [],[]\n",
    "    for line in ProteinList:\n",
    "        if line[0] == \">\": # focus on protein sequences\n",
    "            name = line.strip()#.split('|')[2]\n",
    "        else: # focus on protein sequences\n",
    "            line =line.strip()\n",
    "            line =line.upper()\n",
    "            ProteinSeqs.append(line)\n",
    "            ProteinNames.append(name)\n",
    "    ProteomeDF = pd.DataFrame({'GeneName':ProteinNames,'AAseq':ProteinSeqs})\n",
    "    print 'There are %i proteins'%len(ProteinSeqs)\n",
    "    return ProteomeDF\n"
   ]
  },
  {
   "cell_type": "code",
   "execution_count": 14,
   "metadata": {
    "collapsed": false,
    "deletable": true,
    "editable": true
   },
   "outputs": [
    {
     "name": "stdout",
     "output_type": "stream",
     "text": [
      "Window Size = 39  and Window spacing = 1\n",
      "Number of Tiling Windows: 2471\n",
      "There are 6 proteins\n"
     ]
    },
    {
     "data": {
      "text/plain": [
       "(60, 20)"
      ]
     },
     "execution_count": 14,
     "metadata": {},
     "output_type": "execute_result"
    }
   ],
   "source": [
    "# read in the Lambert TF seqs and make a DF with tilting windows\n",
    "Sequences_to_Test = makeTilingDF(inputfilename,WindowSize = 39, WindowSpacing = 1,AAs = ['W','F','Y','L'])\n",
    "\n",
    "## Build a DF with all the full length TF seqs\n",
    "FullLengthProteinsTested = makeFullLengthProteinDF(inputfilename)\n",
    "\n",
    "\n",
    "### load precomputed support variables\n",
    "# load in the background human TF distribution\n",
    "Counts = pickle.load(open('SupportFiles/HumanTFTiles_Counts','r')) # for 2D heatmap\n",
    "\n",
    "Counts_df = pd.DataFrame(Counts)\n",
    "Counts_df.to_csv('SupportFiles/HumanTFTiles_Counts_v2.csv')\n",
    "Counts.shape"
   ]
  },
  {
   "cell_type": "markdown",
   "metadata": {
    "collapsed": false,
    "deletable": true,
    "editable": true
   },
   "source": [
    "# Predict ADs with a line"
   ]
  },
  {
   "cell_type": "code",
   "execution_count": 5,
   "metadata": {
    "collapsed": false,
    "deletable": true,
    "editable": true
   },
   "outputs": [],
   "source": [
    "# THIS IS MAIN PREDICTION FUNCTION.\n",
    "def ThresholdProteome_withaLine(ProteomeDF,Line,LowerCorner,UpperCorner,AAs = ['W','F','Y','L'],propset =['Charge','AllHydros']):\n",
    "    fig = plt.figure(figsize=(8,3))\n",
    "    # combine all the hydrophobic residues of interest\n",
    "    AllHydros = ProteomeDF[AAs].sum(axis=1)\n",
    "    ProteomeDF['AllHydros'] = AllHydros\n",
    "    \n",
    "\n",
    "    # plot the background distribution--all human TFs--as a heatmap\n",
    "    # TO DO replace this with heatmap plotting to make it look better\n",
    "    if (propset[0]=='Charge')&(propset[1]=='AllHydros'):\n",
    "        overlayPredictionsOverAllTiles_v2(propset)\n",
    "#     else:\n",
    "#         plt.scatter(BackgroundDF.propset[0],BackgroundDF.propset[1],marker='.',c='gray',label='All Regions')\n",
    "\n",
    "    SLOPE =1\n",
    "    # for each tile, calculate value\n",
    "    LineValue = SLOPE*(ProteomeDF.Charge-Line[0])-(ProteomeDF.AllHydros-Line[1])\n",
    "    # theshold\n",
    "    LowerCornerSet = (ProteomeDF.Charge<=LowerCorner[0])&(ProteomeDF.AllHydros>=LowerCorner[1]) #& ProteomeDF.IDR\n",
    "    UpperCornerSet = (ProteomeDF.Charge<=UpperCorner[0])&(ProteomeDF.AllHydros>=UpperCorner[1]) #& ProteomeDF.IDR\n",
    "    BothSet = (LineValue<=0)  &  (ProteomeDF.Charge<=UpperCorner[0]) &(ProteomeDF.AllHydros>=LowerCorner[1]) #& (ProteomeDF.IDR)\n",
    "\n",
    "    plt.scatter(ProteomeDF[BothSet].Charge,ProteomeDF[BothSet].AllHydros,label='Above the line N = %s'%sum(BothSet))\n",
    "    plt.scatter([LowerCorner[0],UpperCorner[0]],[LowerCorner[1],UpperCorner[1]],c='r')\n",
    "    plt.ylabel('Number of '+','.join(AAs)), plt.xlabel('Charge'),plt.legend()\n",
    "    plt.show()\n",
    "\n",
    "    return BothSet\n",
    "# ------------------------------------------------------------------------------------------\n",
    "\n",
    "colormap,dotcolor = 'Greys','w'\n",
    "ADcolorDict2 ={'CITED2_N':'*', 'vp16N_C':'x'}\n",
    "def overlayPredictionsOverAllTiles_v2(propset =['Charge','AllHydros'],flip=False):\n",
    "    Prop1Span = np.arange(-39,21,1)# hard coded to match shape of precomputed heatmap\n",
    "    Prop2Span = np.arange(0,20,1) # hard coded to match shape of precomputed heatmap\n",
    "    Prop1SpanMesh, Prop2SpanMesh = np.meshgrid(Prop1Span,Prop2Span)\n",
    "    ## Human TFs \n",
    "    Z =np.log10(Counts.transpose())     \n",
    "    if flip:\n",
    "        Y,X= Prop1SpanMesh, Prop2SpanMesh,\n",
    "    else:\n",
    "        X,Y= Prop1SpanMesh, Prop2SpanMesh,\n",
    "    cs  = plt.scatter(X,Y, c=Z,cmap=colormap, alpha=1,label='All Human TF regions',marker='s',s=21,linewidths=0)\n",
    "    # Add a color bar which maps values to colors.\n",
    "    plt.colorbar(cs, shrink=1, aspect=20,label='log10(Abundance)',ticks=[0,1,2,3,4],drawedges=False)\n",
    "# ------------------------------------------------------------------------------------------\n",
    "\n",
    "# This is the helper function that runs prediction function. \n",
    "AAlist = ['W','F','Y','L']\n",
    "def maskproteome(lineparameters=[[-13,7],[-13,7],[-9,10]],AAs = AAlist):\n",
    "    TEMPindx = ThresholdProteome_withaLine(Sequences_to_Test,lineparameters[0],lineparameters[1],lineparameters[2],AAs)\n",
    "\n",
    "    MaskedProteomeDF = Sequences_to_Test[TEMPindx]\n",
    "    print 'There are %i regions of length %i AA as extreme or more than this AD'%(len(MaskedProteomeDF),len(MaskedProteomeDF.ProteinWindowSeq.values[0]))\n",
    "    print 'These regions come from %i proteins' % len(set(MaskedProteomeDF.GeneName))\n",
    "\n",
    "    ## aggregate the regions\n",
    "    for gene in set(MaskedProteomeDF.GeneName):\n",
    "        indx = MaskedProteomeDF.GeneName == gene\n",
    "        tempDF = MaskedProteomeDF[indx]\n",
    "        start, end = min(tempDF.StartPosition),max(tempDF.EndPosition)\n",
    "        print '%s \\t%i AA \\tfrom %i - %i'%(gene,end-start+1,start,end)\n",
    "    return TEMPindx\n",
    "# ------------------------------------------------------------------------------------------\n",
    "\n",
    "# Function to combine the Predicted Tiles into predicted ADs--look for overlapping tiles\n",
    "def AggregateTilesIntoPredictedADs(Sequences_to_Test_DF,TEMPindx,exportfilename):\n",
    "\n",
    "    CombinedPredictions = Sequences_to_Test_DF[TEMPindx]\n",
    "\n",
    "    genenames, starts,ends, seqs,regionlengths,RegionType = [],[],[],[],[],[]\n",
    "    for gene in set(CombinedPredictions.GeneName):\n",
    "        indx = CombinedPredictions.GeneName == gene\n",
    "        tempDF = CombinedPredictions[indx]\n",
    "        tempDF = tempDF.reset_index()\n",
    "        start, end = min(tempDF.StartPosition)+1,max(tempDF.EndPosition)\n",
    "        # test if there are missing tiles or multiple regions\n",
    "        if (((max(tempDF.StartPosition)-min(tempDF.StartPosition))-(sum(indx)))>39): #check if tiles overlap\n",
    "            # tiles DO NOT overlap, use hand called regions\n",
    "            previousstart,previousend = tempDF.StartPosition[0],tempDF.EndPosition[0]\n",
    "            for i, entry in tempDF.iterrows():\n",
    "                if entry.StartPosition < previousend+39:\n",
    "                    previousend = entry.EndPosition\n",
    "                else:\n",
    "                    starts.append(previousstart)\n",
    "                    ends.append(previousend)\n",
    "                    regionlengths.append(previousend-previousstart)\n",
    "                    genenames.append(gene)\n",
    "                    RegionType.append('Prediction')\n",
    "                    previousstart,previousend = entry.StartPosition,entry.EndPosition\n",
    "            # add last predicted region\n",
    "            starts.append(previousstart)\n",
    "            ends.append(entry.EndPosition)\n",
    "            regionlengths.append(entry.EndPosition-previousstart)\n",
    "            genenames.append(gene)\n",
    "            RegionType.append('Prediction')\n",
    "            if 0==1: # debugging\n",
    "                print(gene +' had more than one region')\n",
    "                print tempDF[['GeneName','StartPosition','EndPosition']]\n",
    "        else:\n",
    "            starts.append(start)\n",
    "            ends.append(end)\n",
    "            regionlengths.append(end-start)\n",
    "            genenames.append(gene)\n",
    "            RegionType.append('Prediction')\n",
    "    print \"\\n---\\nThere are %i predicted candidate AD regions on %i TFs\" %(len(starts),len(set(genenames)))\n",
    "    # make a DF with geneNames and start and End positions of the overlapping windows\n",
    "    CandidateADsToTest = pd.DataFrame({'GeneName':genenames,'Start':starts,'End':ends,'Length':regionlengths,'RegionType':RegionType})\n",
    "\n",
    "    #add a column for full length AA seq\n",
    "    tempDict = dict(zip(FullLengthProteinsTested.GeneName,FullLengthProteinsTested.AAseq))\n",
    "    tempSeries = CandidateADsToTest.GeneName\n",
    "    CandidateADsToTest['FullProteinSeq'] = tempSeries.map(tempDict)\n",
    "\n",
    "\n",
    "    ## pull out regions of these TFs\n",
    "    # CandidateADsToTest['Region2Test'] = CandidateADsToTest.apply(lambda row: row.FullProteinSeq[row.Start:row.End], axis=1)\n",
    "    #correct for counting starting at 0 in python and 1 in real world\n",
    "    ProteinRegionSeqs =[]\n",
    "    for i, row in CandidateADsToTest.iterrows():\n",
    "        start =row.Start\n",
    "        end = row.End\n",
    "        Region = row.FullProteinSeq[start:end]\n",
    "        ProteinRegionSeqs.append(Region)\n",
    "    CandidateADsToTest['ProteinRegionSeq']=ProteinRegionSeqs\n",
    "    CandidateADsToTest = CandidateADsToTest.drop(['FullProteinSeq'], axis=1)\n",
    "\n",
    "    CandidateADsToTest.to_csv('Output/'+exportfilename)\n",
    "\n",
    "    return CandidateADsToTest\n"
   ]
  },
  {
   "cell_type": "markdown",
   "metadata": {
    "collapsed": false,
    "deletable": true,
    "editable": true
   },
   "source": [
    "# Predict Activation Domains\n",
    "These regions balance at least 7 aromatic and leucine residues with a net charge of at least -9. For now, they interpolate a line between VP16 and CITED2."
   ]
  },
  {
   "cell_type": "code",
   "execution_count": 7,
   "metadata": {
    "collapsed": false,
    "deletable": true,
    "editable": true,
    "scrolled": false
   },
   "outputs": [
    {
     "data": {
      "image/png": "[encoded data removed]",
      "text/plain": [
       "<matplotlib.figure.Figure at 0x108d41190>"
      ]
     },
     "metadata": {},
     "output_type": "display_data"
    },
    {
     "name": "stdout",
     "output_type": "stream",
     "text": [
      "There are 13 regions of length 39 AA as extreme or more than this AD\n",
      "These regions come from 2 proteins\n",
      ">sp|P04150|GCR_HUMAN \t48 AA \tfrom 206 - 253\n",
      ">sp|Q96QS3|ARX_HUMAN \t50 AA \tfrom 220 - 269\n",
      "\n",
      "---\n",
      "There are 2 predicted candidate AD regions on 2 TFs\n"
     ]
    },
    {
     "data": {
      "text/html": [
       "<div>\n",
       "<table border=\"1\" class=\"dataframe\">\n",
       "  <thead>\n",
       "    <tr style=\"text-align: right;\">\n",
       "      <th></th>\n",
       "      <th>End</th>\n",
       "      <th>GeneName</th>\n",
       "      <th>Length</th>\n",
       "      <th>RegionType</th>\n",
       "      <th>Start</th>\n",
       "      <th>ProteinRegionSeq</th>\n",
       "    </tr>\n",
       "  </thead>\n",
       "  <tbody>\n",
       "    <tr>\n",
       "      <th>0</th>\n",
       "      <td>253</td>\n",
       "      <td>&gt;sp|P04150|GCR_HUMAN</td>\n",
       "      <td>46</td>\n",
       "      <td>Prediction</td>\n",
       "      <td>207</td>\n",
       "      <td>TNESPWRSDLLIDENCLLSPLAGEDDSFLLEGNSNEDCKPLILPDT</td>\n",
       "    </tr>\n",
       "    <tr>\n",
       "      <th>1</th>\n",
       "      <td>269</td>\n",
       "      <td>&gt;sp|Q96QS3|ARX_HUMAN</td>\n",
       "      <td>48</td>\n",
       "      <td>Prediction</td>\n",
       "      <td>221</td>\n",
       "      <td>GTEDDEEELLEDEEDEDEEEELLEDDEEELLEDDARALLKEPRRCPVA</td>\n",
       "    </tr>\n",
       "  </tbody>\n",
       "</table>\n",
       "</div>"
      ],
      "text/plain": [
       "   End              GeneName  Length  RegionType  Start  \\\n",
       "0  253  >sp|P04150|GCR_HUMAN      46  Prediction    207   \n",
       "1  269  >sp|Q96QS3|ARX_HUMAN      48  Prediction    221   \n",
       "\n",
       "                                   ProteinRegionSeq  \n",
       "0    TNESPWRSDLLIDENCLLSPLAGEDDSFLLEGNSNEDCKPLILPDT  \n",
       "1  GTEDDEEELLEDEEDEDEEEELLEDDEEELLEDDARALLKEPRRCPVA  "
      ]
     },
     "execution_count": 7,
     "metadata": {},
     "output_type": "execute_result"
    }
   ],
   "source": [
    "# ------------------------------------------------------------------------------------------\n",
    "# This is the main prediction function. \n",
    "PredictedTiles = maskproteome(lineparameters=[[-9,10],[-13,7],[-9,10]])\n",
    "#[-9,10] is CITED2\n",
    "#[-13,7] is VP16\n",
    "AggregateTilesIntoPredictedADs(Sequences_to_Test,PredictedTiles,exportfilename)\n",
    "# ------------------------------------------------------------------------------------------"
   ]
  },
  {
   "cell_type": "code",
   "execution_count": null,
   "metadata": {
    "collapsed": true,
    "deletable": true,
    "editable": true
   },
   "outputs": [],
   "source": []
  }
 ],
 "metadata": {
  "kernelspec": {
   "display_name": "Python 2",
   "language": "python",
   "name": "python2"
  },
  "language_info": {
   "codemirror_mode": {
    "name": "ipython",
    "version": 2
   },
   "file_extension": ".py",
   "mimetype": "text/x-python",
   "name": "python",
   "nbconvert_exporter": "python",
   "pygments_lexer": "ipython2",
   "version": "2.7.13"
  }
 },
 "nbformat": 4,
 "nbformat_minor": 2
}
