{
 "cells": [
  {
   "cell_type": "markdown",
   "metadata": {
    "deletable": true,
    "editable": true
   },
   "source": [
    "# Preprocessing step 2\n",
    "- Add AD sequence features\n",
    "- Fix names of some ADs that were incorrect in design\n",
    "- Calculate which ADs are significantly different from WT\n",
    "- Fix names and P65_L2Y indicies"
   ]
  },
  {
   "cell_type": "code",
   "execution_count": 1,
   "metadata": {
    "collapsed": false,
    "deletable": true,
    "editable": true
   },
   "outputs": [],
   "source": [
    "from Bio.Seq import Seq\n",
    "from Bio.Alphabet import generic_dna \n",
    "import pandas as pd\n",
    "import numpy as np\n",
    "import itertools\n",
    "import re\n",
    "import matplotlib.pyplot as plt\n",
    "from collections import defaultdict \n",
    "import scipy\n",
    "from scipy import stats\n",
    "import glob\n",
    "import warnings\n",
    "warnings.filterwarnings('ignore')\n",
    "import os\n",
    "import operator\n",
    "import logomaker\n",
    "import matplotlib\n",
    "\n",
    "import statsmodels\n",
    "from pandas.tools.plotting import scatter_matrix\n",
    "from mpl_toolkits.mplot3d import Axes3D\n",
    "import seaborn as sns\n",
    "import StableAnalaysisFunctions\n",
    "import pickle\n",
    "\n",
    "import matplotlib.patches as mpatches\n",
    "from localcider.sequenceParameters import SequenceParameters\n",
    "import localcider\n",
    "from statsmodels.formula.api import ols\n",
    "import statsmodels.api as sm\n",
    "lowess = sm.nonparametric.lowess\n",
    "from statsmodels.stats.anova import anova_lm\n",
    "from statsmodels.graphics.factorplots import interaction_plot\n",
    "lightblue , darkblue, lightgreen, darkgreen, pink =  '#a6cee3','#1f78b4','#b2df8a','#33a02c','#fb9a99'\n",
    "import matplotlib.patches as mpatches\n",
    "from matplotlib.patches import Polygon\n",
    "matplotlib.rcParams['pdf.fonttype'] = 42\n",
    "matplotlib.rcParams['ps.fonttype'] = 42"
   ]
  },
  {
   "cell_type": "code",
   "execution_count": 2,
   "metadata": {
    "collapsed": false,
    "deletable": true,
    "editable": true,
    "scrolled": true
   },
   "outputs": [],
   "source": [
    "ADCoordinates={ 'CITED2_N':[220,258],# isoform 1\n",
    "               'Hif1-AD2_46':[781,896],# isoform 1\n",
    "               'vp16N_C':[415,453], #from blast\n",
    "               'stat3':[719,764],# isoform 1\n",
    "               'p65':[521,551],# isoform 1\n",
    "              'p65_L2Y':[519,551]}\n",
    "ActivityMeasurements = ['MSS18_Sort_1_Activity',\n",
    " 'MSS18_Sort_2_Activity',\n",
    " 'MSS18_Sort_3_Activity',\n",
    " 'MSS18_Sort_4R_Activity']"
   ]
  },
  {
   "cell_type": "code",
   "execution_count": 3,
   "metadata": {
    "collapsed": false,
    "deletable": true,
    "editable": true,
    "scrolled": false
   },
   "outputs": [],
   "source": [
    "## Library Design DF\n",
    "masterDF = pd.read_pickle('../AnalysisSuportFiles/Pickle_ExpDesignDF_unique_20200218')\n",
    "PreMerged_AD_DF = pd.read_pickle('../Preprocessing/pickleFiles/NormalizedData/MSS18_AD_DF_FluorValues_NextSeq20210722_NormToNoAD')\n",
    "\n",
    "\n",
    "ColstoAdd=PreMerged_AD_DF.columns[1:]#[<list of columns you want to add>]\n",
    "for col in ColstoAdd:\n",
    "    tempDict =dict(zip(PreMerged_AD_DF['ADseq'],PreMerged_AD_DF[col]))#make a dictionary related ADseq to value you want to add to the DF\n",
    "    tempSeries = masterDF['ADseq'] #temportary Series\n",
    "    temp = tempSeries.replace(tempDict) #This replace command takes a dictionary and replaces everything in that column with the dictionary entry.\n",
    "    masterDF[col] = temp # add column to new DF\n",
    "\n",
    "summaryCols = [ 'MutName','HandDesigned', u'WT','CITED2_N', 'stat3', 'Hif1-AD2_46','p65_L2Y', 'p65', 'vp16N_C', u'ADseq','Activity_Mean_MSS18']\n",
    "\n",
    "# make a new column with shorter mutant names to correct for a few that have very long names and don't plot well\n",
    "names = masterDF.MutName\n",
    "masterDF['shortname']=names.str.split(',').str[0]\n",
    "\n",
    "#columns to focus on for plotting\n",
    "currentItem ='Activity_Mean_MSS18'\n",
    "currentSEM  ='Activity_SEM_MSS18'\n",
    "\n",
    "# Useful plotting variables\n",
    "maxActivity = max(masterDF[currentItem])*1.1\n",
    "minActivity = min(masterDF[currentItem])*.9\n",
    "\n",
    "## support variables\n",
    "ADlist = [ 'CITED2_N','Hif1-AD2_46','vp16N_C','stat3','p65']\n",
    "ExtendedADlist = [ 'CITED2_N','Hif1-AD2_46','vp16N_C','stat3','p65','p65_L2Y']\n",
    "\n",
    "\n",
    "# tempDF2 = masterDF.sort_values(by='MutName')\n",
    "## add extra columns with sums of more AA counts\n",
    "masterDF['CountFYWL']=masterDF.Aromatics+masterDF.CountL\n"
   ]
  },
  {
   "cell_type": "code",
   "execution_count": 4,
   "metadata": {
    "collapsed": false,
    "deletable": true,
    "editable": true
   },
   "outputs": [
    {
     "name": "stdout",
     "output_type": "stream",
     "text": [
      "                                            ADseq       ADname MutType MutName\n",
      "0         PTDVSLGDELHLDGEDVAMAHADALDDFDLDMLGDGDSP      vp16N_C      WT    none\n",
      "1                 PGLPNGLLSGDEDFSSIADMDFSALLSQISS          p65      WT    none\n",
      "2  SNTIDLPMSPRTLDSLMQFGNNGEGAEPSAGGQFESLTFDMELTSE        stat3      WT    none\n",
      "3         TDFIDEEVLMSLVIEMGLDRIKELPELWLGQNEFDFMTD     CITED2_N      WT    none\n",
      "4  RLLGQSMDESGLPQLTSYDCEVNAPIQGSRNLLQGEELLRALDQVN  Hif1-AD2_46      WT    none\n"
     ]
    }
   ],
   "source": [
    "## build a WT DF\n",
    "WTDF = pd.read_pickle('../../../ArrayDesign/Array3_strongAcidicADs/Pickle_WT_DF_AcidBlobs_LC2')\n",
    "WTname2seqDict = dict(zip(WTDF.ADname,WTDF.ADseq))\n",
    "WTseq2nameDict =dict(zip(WTDF.ADseq,WTDF.ADname))\n",
    "# WTname2currentItemDict = dict(zip(WTDF.ADname,WTDF[currentItem]))\n",
    "WTADset = set(WTDF.ADname)\n",
    "print WTDF\n",
    "# for i, entry in WTDF.iterrows():\n",
    "indx = masterDF.WT\n",
    "WTDF=masterDF[indx]\n",
    "WTname2currentItemDict_holder,WTname2currentSEMDict_holder = {},{}\n",
    "\n",
    "for value in [['Activity_Mean_MSS18','Activity_SEM_MSS18'],['Zscore_Mean_MSS18','Zscore_SEM_MSS18']]:\n",
    "    WTname2currentItemDict,WTname2currentSEMDict = {},{}\n",
    "    for ad in WTseq2nameDict.keys():\n",
    "        temp = WTDF[WTDF.ADseq==ad]\n",
    "        temp2 =temp[value[0]].values\n",
    "        WTname2currentItemDict[WTseq2nameDict[ad]]=temp2[0]\n",
    "        temp2 =temp[value[1]].values\n",
    "        WTname2currentSEMDict[WTseq2nameDict[ad]]=temp2[0]\n",
    "    WTname2currentItemDict_holder[value[0]]=WTname2currentItemDict\n",
    "    WTname2currentSEMDict_holder[value[0]]=WTname2currentSEMDict\n",
    "listofDictstoSave = [WTname2seqDict,WTseq2nameDict,WTname2currentItemDict_holder,WTname2currentSEMDict_holder]\n",
    "f = open('pickleFiles/WTDictionaries','w')\n",
    "pickle.dump(listofDictstoSave, f)\n",
    "f.close()\n",
    "\n",
    "WTname2currentItemDict = WTname2currentItemDict_holder[currentItem]\n"
   ]
  },
  {
   "cell_type": "code",
   "execution_count": 7,
   "metadata": {
    "collapsed": false,
    "deletable": true,
    "editable": true,
    "scrolled": false
   },
   "outputs": [
    {
     "name": "stdout",
     "output_type": "stream",
     "text": [
      "Using the normalization to No AD\n",
      "CITED2_N\t 41 sig diff  117 total\n",
      "Hif1-AD2_46\t 9 sig diff  112 total\n",
      "vp16N_C\t 37 sig diff  73 total\n",
      "stat3\t 0 sig diff  111 total\n",
      "p65\t 0 sig diff  109 total\n"
     ]
    }
   ],
   "source": [
    "# determine which ADs are statistically significantly different from WT.\n",
    "\n",
    "print 'Using the normalization to No AD'\n",
    "\n",
    "IndepBioReplicates=[\n",
    "    'MSS18_Sort_1AvgADActivityOutliersRemovedAndBCsCollapsed_NormToNoAD',\n",
    " 'MSS18_Sort_2AvgADActivityOutliersRemovedAndBCsCollapsed_NormToNoAD',\n",
    " 'MSS18_Sort_3AvgADActivityOutliersRemovedAndBCsCollapsed_NormToNoAD',\n",
    " 'MSS18_Sort_4AvgADActivityOutliersRemovedAndBCsCollapsed_NormToNoAD',                   ]\n",
    "\n",
    "UncorrectedPvalues =[]\n",
    "for i, entry in masterDF.iterrows():\n",
    "    tempVals =np.array(list(entry[IndepBioReplicates].values)) # pull out all the BioRep measuremnts\n",
    "    # find the right WT \n",
    "    for ad in ExtendedADlist:\n",
    "        if entry[ad]==1:\n",
    "            if ad =='p65_L2Y':\n",
    "                tempWT = WTDF[WTDF['p65']==1]\n",
    "            else:\n",
    "                tempWT = WTDF[WTDF[ad]==1]\n",
    "            tempWTmeasurements = tempWT[IndepBioReplicates].values\n",
    "    stat = scipy.stats.ttest_ind(tempWTmeasurements[0],tempVals)\n",
    "    UncorrectedPvalues.append(stat[1])\n",
    "\n",
    "masterDF['UncorrectedPvalues'] = UncorrectedPvalues\n",
    "\n",
    "# correct for multiple hypothesis testing--separately for each AD\n",
    "ttestvsWT_dict,correctedpvalsDict =defaultdict(), defaultdict()\n",
    "for ad in ADlist:\n",
    "    #pull out the variants of that AD\n",
    "    indx = (masterDF[ad]==1)\n",
    "    tempDF = masterDF[indx]\n",
    "    reject, pvals_corrected,extra1, exra2 = statsmodels.stats.multitest.multipletests(tempDF.UncorrectedPvalues,method='fdr_bh')\n",
    "    tempDict = dict(zip(tempDF.ADseq,reject))\n",
    "    ttestvsWT_dict.update(tempDict)\n",
    "    tempDict = dict(zip(tempDF.ADseq,pvals_corrected))\n",
    "    correctedpvalsDict.update(tempDict)\n",
    "    print '%s\\t %i sig diff % i total' % (ad,sum(reject),sum(indx))\n",
    "tempSeries = masterDF['ADseq']\n",
    "masterDF['SigDiff_NormToNoAD'] = tempSeries.replace(ttestvsWT_dict)\n",
    "masterDF['CorrectedPvalues'] = tempSeries.replace(correctedpvalsDict)\n"
   ]
  },
  {
   "cell_type": "code",
   "execution_count": 8,
   "metadata": {
    "collapsed": false,
    "deletable": true,
    "editable": true
   },
   "outputs": [
    {
     "name": "stdout",
     "output_type": "stream",
     "text": [
      "Using the Zscores\n",
      "CITED2_N\t 50 sig diff  117 total\n",
      "Hif1-AD2_46\t 22 sig diff  112 total\n",
      "vp16N_C\t 42 sig diff  73 total\n",
      "stat3\t 0 sig diff  111 total\n",
      "p65\t 0 sig diff  109 total\n"
     ]
    }
   ],
   "source": [
    "# use instead the Zscores\n",
    "IndepBioReplicates =['MSS18_Sort_1AvgADActivityOutliersRemovedAndBCsCollapsed_Zscore','MSS18_Sort_2AvgADActivityOutliersRemovedAndBCsCollapsed_Zscore',\n",
    "       'MSS18_Sort_3AvgADActivityOutliersRemovedAndBCsCollapsed_Zscore','MSS18_Sort_4AvgADActivityOutliersRemovedAndBCsCollapsed_Zscore']\n",
    "\n",
    "print 'Using the Zscores'\n",
    "\n",
    "UncorrectedPvalues =[]\n",
    "for i, entry in masterDF.iterrows():\n",
    "    tempVals =np.array(list(entry[IndepBioReplicates].values)) # pull out all the BioRep measuremnts\n",
    "    # find the right WT \n",
    "    for ad in ExtendedADlist:\n",
    "        if entry[ad]==1:\n",
    "            if ad =='p65_L2Y':\n",
    "                tempWT = WTDF[WTDF['p65']==1]\n",
    "            else:\n",
    "                tempWT = WTDF[WTDF[ad]==1]\n",
    "            tempWTmeasurements = tempWT[IndepBioReplicates].values\n",
    "    stat = scipy.stats.ttest_ind(tempWTmeasurements[0],tempVals)\n",
    "    UncorrectedPvalues.append(stat[1])\n",
    "\n",
    "masterDF['UncorrectedPvalues'] = UncorrectedPvalues\n",
    "\n",
    "# correct for multiple hypothesis testing--separately for each AD\n",
    "ttestvsWT_dict,correctedpvalsDict =defaultdict(), defaultdict()\n",
    "for ad in ADlist:\n",
    "    #pull out the variants of that AD\n",
    "    indx = (masterDF[ad]==1)\n",
    "    tempDF = masterDF[indx]\n",
    "    reject, pvals_corrected,extra1, exra2 = statsmodels.stats.multitest.multipletests(tempDF.UncorrectedPvalues,method='fdr_bh')\n",
    "    tempDict = dict(zip(tempDF.ADseq,reject))\n",
    "    ttestvsWT_dict.update(tempDict)\n",
    "    tempDict = dict(zip(tempDF.ADseq,pvals_corrected))\n",
    "    correctedpvalsDict.update(tempDict)\n",
    "    print '%s\\t %i sig diff % i total' % (ad,sum(reject),sum(indx))\n",
    "tempSeries = masterDF['ADseq']\n",
    "masterDF['SigDiff_Zscore'] = tempSeries.replace(ttestvsWT_dict)\n",
    "masterDF['CorrectedPvalues'] = tempSeries.replace(correctedpvalsDict)"
   ]
  },
  {
   "cell_type": "markdown",
   "metadata": {},
   "source": [
    "# Which variants are only significantly different from WT in Z score space?\n"
   ]
  },
  {
   "cell_type": "code",
   "execution_count": 9,
   "metadata": {
    "collapsed": false,
    "scrolled": false
   },
   "outputs": [
    {
     "name": "stdout",
     "output_type": "stream",
     "text": [
      "CITED2_N\n",
      "41 ADs are significantly different from WT using the Normalization to No AD\n",
      "50 ADs are significantly different from WT using the Zscore Normalization to No AD\n",
      "40 ADs are significantly different from WT using both\n",
      "WT activity is 4633.448213\n",
      "                                            shortname  Activity_Mean_MSS18\n",
      "ADseq                                                                     \n",
      "EDFIDEEVLMELVIEMGLDRIKELPELWLGEEEFDFMED        STQN>E          5522.323440\n",
      "TDFIDEEVLMSLVIEMGLDRIKELPELWLGQNEWDWMTD  F>Wmut20to39          5439.618472\n",
      "TDAIDEEVLMSLVIEMGLDRIKELPELWLGQNEFDFMTD   F>Amut0to20          5187.713285\n",
      "TDFIDEEYLMSLYIEMGLDRIKELPELWLGQNEFDFMTD           V>Y          5152.705894\n",
      "TDFIDEEVLMSLVIEMGLDEIEELPELWLGQNEFDFMTD          RK>E          5096.616988\n",
      "TDWIDEEVLMSLVIEMGLDRIKELPELWLGQNEFDFMTD   F>Wmut0to20          5086.386849\n",
      "TDFIDEEVLFSLVIEFGLDRIKELPELWLGQNEFDFFTD           M>F          3915.530460\n",
      "TDFIDEEVLMSLVIEMGLDRIKELPELWLGQNEADAATD    killmotif4          3260.630092\n",
      "TDFIDEEVLMSLVIEMGLDRIKELPELWLGKKEFDFMTD          QN>K          3209.770835\n",
      "TDFIDEPVLMPLVIEMGLDRIKELPELWLGQNEFDFMTD   breakhelixP          2990.528512\n",
      "TAFIAAAVLMSLVIAMGLARIKALPALWLGQNAFAFMTA          ED>A          2872.451223\n"
     ]
    },
    {
     "data": {
      "image/png": "[encoded data removed]",
      "text/plain": [
       "<matplotlib.figure.Figure at 0x10a62f090>"
      ]
     },
     "metadata": {},
     "output_type": "display_data"
    },
    {
     "name": "stdout",
     "output_type": "stream",
     "text": [
      "Hif1-AD2_46\n",
      "9 ADs are significantly different from WT using the Normalization to No AD\n",
      "22 ADs are significantly different from WT using the Zscore Normalization to No AD\n",
      "8 ADs are significantly different from WT using both\n",
      "WT activity is 2695.866145\n",
      "                                                     shortname  \\\n",
      "ADseq                                                            \n",
      "RLLGQSMDESGLPELTSYDCEVEAPIEGSRNLLQGEELLRALDQVN    QN>Emut7to29   \n",
      "RLLGQSMDESGLPQLTSYDCEVNAPIQGSRELLEGEELLRALDEVE   QN>Emut29to46   \n",
      "RLLGQSMDESGLPQLTSYDCEVNAPIQGSANLLQGEELLAALDQVN   RK>Amut29to46   \n",
      "RLLGQSMDESGLPQLTSWDCEVNAPIQGSRNLLQGEELLRALDQVN             Y>W   \n",
      "RLLGQSMDESGLPQLTSLDCEVNAPIQGSRNLLQGEELLRALDQVN             Y>L   \n",
      "RLLGQSMDESGLPQLTSYDCEYNAPIQGSRNLLQGEELLRALDQYN             V>Y   \n",
      "RLLGQSMDESGLPQLTSYDCEVNWPIQGSRNLLQGEELLRWLDQVN             A>W   \n",
      "RLLGQSMDESGLPQLTSYDFEVNAPIQGSRNLLQGEELLEFLDQVN    superchargeA   \n",
      "RLLGQSMDESGLPQLTSYDFEVNAPIQGSRNLLQGEELLRALDQVN            aro1   \n",
      "RLLGQSMDESGLPQLTSYDCEVNAPYQGSRNLLQGEELLRALDQVN             I>Y   \n",
      "RLLGQSMDESGAPQATSADCEVNAPIQGSRNLLQGEELLRALDQVN      killmotif2   \n",
      "RLLGQSMDESGLPQLTSYDCEVNAPIQGSRNLLQGEELLPPLDQVN    breakhelix3P   \n",
      "RLLGQSMDDSGLPQLTSYDCDVNAPIQGSRNLLQGDDLLRALDQVN            ED>D   \n",
      "RLLGQSMRRSGLPQLTSYRCRVNAPIQGSRNLLQGEELLRALDQVN    ED>Rmut7to29   \n",
      "RLLGQSMDERGLPRLRRYDCEVRAPIRGRRNLLQGEELLRALDQVN  STQN>Rmut7to29   \n",
      "\n",
      "                                                Activity_Mean_MSS18  \n",
      "ADseq                                                                \n",
      "RLLGQSMDESGLPELTSYDCEVEAPIEGSRNLLQGEELLRALDQVN          4677.492571  \n",
      "RLLGQSMDESGLPQLTSYDCEVNAPIQGSRELLEGEELLRALDEVE          4566.954281  \n",
      "RLLGQSMDESGLPQLTSYDCEVNAPIQGSANLLQGEELLAALDQVN          4199.514204  \n",
      "RLLGQSMDESGLPQLTSWDCEVNAPIQGSRNLLQGEELLRALDQVN          3500.171529  \n",
      "RLLGQSMDESGLPQLTSLDCEVNAPIQGSRNLLQGEELLRALDQVN          3238.211895  \n",
      "RLLGQSMDESGLPQLTSYDCEYNAPIQGSRNLLQGEELLRALDQYN          3163.604662  \n",
      "RLLGQSMDESGLPQLTSYDCEVNWPIQGSRNLLQGEELLRWLDQVN          2338.960380  \n",
      "RLLGQSMDESGLPQLTSYDFEVNAPIQGSRNLLQGEELLEFLDQVN          2218.576111  \n",
      "RLLGQSMDESGLPQLTSYDFEVNAPIQGSRNLLQGEELLRALDQVN          2210.512302  \n",
      "RLLGQSMDESGLPQLTSYDCEVNAPYQGSRNLLQGEELLRALDQVN          2179.530235  \n",
      "RLLGQSMDESGAPQATSADCEVNAPIQGSRNLLQGEELLRALDQVN          2165.460551  \n",
      "RLLGQSMDESGLPQLTSYDCEVNAPIQGSRNLLQGEELLPPLDQVN          2164.099937  \n",
      "RLLGQSMDDSGLPQLTSYDCDVNAPIQGSRNLLQGDDLLRALDQVN          2115.632626  \n",
      "RLLGQSMRRSGLPQLTSYRCRVNAPIQGSRNLLQGEELLRALDQVN          2054.347093  \n",
      "RLLGQSMDERGLPRLRRYDCEVRAPIRGRRNLLQGEELLRALDQVN          1970.830614  \n"
     ]
    },
    {
     "data": {
      "image/png": "[encoded data removed]",
      "text/plain": [
       "<matplotlib.figure.Figure at 0x10a91e650>"
      ]
     },
     "metadata": {},
     "output_type": "display_data"
    },
    {
     "name": "stdout",
     "output_type": "stream",
     "text": [
      "vp16N_C\n",
      "37 ADs are significantly different from WT using the Normalization to No AD\n",
      "42 ADs are significantly different from WT using the Zscore Normalization to No AD\n",
      "37 ADs are significantly different from WT using both\n",
      "WT activity is 4447.248127\n",
      "                                             shortname  Activity_Mean_MSS18\n",
      "ADseq                                                                      \n",
      "PTDVSLGDELHLDGEDVYMYHYDYLDDFDLDMLGDGDSP            A>Y          5383.601973\n",
      "PTDVSLGDELHLDGAAVAMAHAAALADFDLDMLGDGDSP  ED>Amut13to26          3909.408618\n",
      "PTDFSFGDEFHFDGEDFAMAHADAFDDFDFDMFGDGDSP          IVL>F          3470.833164\n",
      "PTAVSLGAALHLAGEDVAMAHADALDDFDLDMLGDGDSP   ED>Amut0to13          3337.818480\n",
      "PRDVRLGDELHLDGEDVAMAHADALDDFDLDMLGDGDRP           ST>R          2920.654630\n"
     ]
    },
    {
     "data": {
      "image/png": "[encoded data removed]",
      "text/plain": [
       "<matplotlib.figure.Figure at 0x10aa9cb90>"
      ]
     },
     "metadata": {},
     "output_type": "display_data"
    },
    {
     "name": "stdout",
     "output_type": "stream",
     "text": [
      "stat3\n",
      "0 ADs are significantly different from WT using the Normalization to No AD\n",
      "0 ADs are significantly different from WT using the Zscore Normalization to No AD\n",
      "0 ADs are significantly different from WT using both\n",
      "WT activity is 2400.073207\n",
      "Empty DataFrame\n",
      "Columns: [shortname, Activity_Mean_MSS18]\n",
      "Index: []\n"
     ]
    },
    {
     "data": {
      "image/png": "[encoded data removed]",
      "text/plain": [
       "<matplotlib.figure.Figure at 0x10a977d10>"
      ]
     },
     "metadata": {},
     "output_type": "display_data"
    },
    {
     "name": "stdout",
     "output_type": "stream",
     "text": [
      "p65\n",
      "0 ADs are significantly different from WT using the Normalization to No AD\n",
      "0 ADs are significantly different from WT using the Zscore Normalization to No AD\n",
      "0 ADs are significantly different from WT using both\n",
      "WT activity is 2395.712207\n",
      "Empty DataFrame\n",
      "Columns: [shortname, Activity_Mean_MSS18]\n",
      "Index: []\n"
     ]
    },
    {
     "data": {
      "image/png": "[encoded data removed]",
      "text/plain": [
       "<matplotlib.figure.Figure at 0x10ad93690>"
      ]
     },
     "metadata": {},
     "output_type": "display_data"
    }
   ],
   "source": [
    "# which variants are only significantly different from WT in Z score space?\n",
    "for AD in ADlist:\n",
    "    print AD\n",
    "    print '%i ADs are significantly different from WT using the Normalization to No AD' % sum((masterDF.SigDiff_NormToNoAD==True)&masterDF[AD])\n",
    "    print '%i ADs are significantly different from WT using the Zscore Normalization to No AD' % sum((masterDF.SigDiff_Zscore==True)&masterDF[AD])\n",
    "    indx = (masterDF.SigDiff_Zscore==True) &( masterDF.SigDiff_NormToNoAD==True) & masterDF[AD]\n",
    "    print '%i ADs are significantly different from WT using both' % sum(indx==True)\n",
    "    indx = (masterDF.SigDiff_Zscore==True) -( masterDF.SigDiff_NormToNoAD==True) & masterDF[AD]\n",
    "#     indx = ( masterDF.SigDiff_NormToNoAD==True) & masterDF[AD]\n",
    "    tempDF = masterDF[indx]\n",
    "    tempDF = tempDF.sort_values(by=currentItem,ascending=0)\n",
    "    print 'WT activity is %f'% WTname2currentItemDict[AD]\n",
    "    print tempDF[['shortname',currentItem]]\n",
    "#     print tempDF[['shortname',currentItem,currentSEM,'Zscore_Mean_MSS18','Zscore_SEM_MSS18']]\n",
    "#     plt.scatter(tempDF[currentItem],tempDF.Zscore_Mean_MSS18)\n",
    "    plt.errorbar(tempDF[currentItem],tempDF.Zscore_Mean_MSS18,xerr=tempDF[currentSEM],yerr=tempDF.Zscore_SEM_MSS18,fmt='o',capsize=4, elinewidth=.2,c='k')\n",
    "    plt.errorbar(WTDF[currentItem],WTDF['Zscore_Mean_MSS18'], xerr=WTDF[currentSEM],yerr=WTDF['Zscore_SEM_MSS18'],fmt='ro',capsize=4, elinewidth=.2,c='k')\n",
    "    plt.show()\n",
    "    \n",
    "    "
   ]
  },
  {
   "cell_type": "code",
   "execution_count": null,
   "metadata": {
    "collapsed": false
   },
   "outputs": [],
   "source": []
  },
  {
   "cell_type": "markdown",
   "metadata": {
    "deletable": true,
    "editable": true
   },
   "source": [
    "#### Using the normalization to No AD\n",
    "    CITED2_N\t 41 sig diff  117 total\n",
    "    Hif1-AD2_46\t 9 sig diff  112 total\n",
    "    vp16N_C\t 37 sig diff  73 total\n",
    "    stat3\t 0 sig diff  111 total\n",
    "    p65\t 0 sig diff  109 total\n",
    "    \n",
    "#### using Z scores after correcting for No AD control\n",
    "    CITED2_N\t 50 sig diff  117 total\n",
    "    Hif1-AD2_46\t 22 sig diff  112 total\n",
    "    vp16N_C\t 42 sig diff  73 total\n",
    "    stat3\t 0 sig diff  111 total\n",
    "    p65\t 0 sig diff  109 total"
   ]
  },
  {
   "cell_type": "markdown",
   "metadata": {
    "collapsed": true,
    "deletable": true,
    "editable": true
   },
   "source": [
    "### Correct the names of mutants that were not correctly designed by hand"
   ]
  },
  {
   "cell_type": "code",
   "execution_count": 10,
   "metadata": {
    "collapsed": false,
    "deletable": true,
    "editable": true
   },
   "outputs": [
    {
     "name": "stdout",
     "output_type": "stream",
     "text": [
      "Series([], Name: shortname, dtype: object)\n",
      "ADseq\n",
      "PGLPNGLLSGDEDFSSIADMDASAAASQISS    killmotif1\n",
      "Name: shortname, dtype: object\n",
      "ADseq\n",
      "PGLPNGLLSGDEDFSSIADMDASAAASQISS    killmotif1\n",
      "Name: shortname, dtype: object\n",
      "ADseq\n",
      "RAAGQSMDESGAAAATSYDCEVNAPIQGSRNLLQGEELLRALDQVN    killmotif_LPQL_A_plus2As\n",
      "Name: shortname, dtype: object\n",
      "ADseq\n",
      "RAAGQSMDESGAAAATSYDCEVNAPIQGSRNLLQGEELLRALDQVN    killmotif_LPQL_A_plus2As\n",
      "Name: shortname, dtype: object\n",
      "ADseq\n",
      "GSPGLPNGLLSGDEDFSSIADMDFSALLSQISS    p65+GS\n",
      "Name: shortname, dtype: object\n",
      "ADseq\n",
      "GSPGLPNGLLSGDEDFSSIADMDFSALLSQISS    p65+GS\n",
      "Name: shortname, dtype: object\n",
      "ADseq\n",
      "PGAPNGAASGDEDFSSIADMDFSALLSQISS    killmotif2\n",
      "Name: shortname, dtype: object\n",
      "ADseq\n",
      "PGAPNGAASGDEDFSSIADMDFSALLSQISS    killmotif2\n",
      "Name: shortname, dtype: object\n",
      "ADseq\n",
      "RAAGQSMDESGGGGGTSYDCEVNAPIQGSRNLLQGEELLRALDQVN    killmotif_LPQL_G_plus2As\n",
      "Name: shortname, dtype: object\n",
      "ADseq\n",
      "RAAGQSMDESGGGGGTSYDCEVNAPIQGSRNLLQGEELLRALDQVN    killmotif_LPQL_G_plus2As\n",
      "Name: shortname, dtype: object\n",
      "ADseq\n",
      "RLLGQSMDESGAAAATSYDCEVNAPIQGSRNLLQGEELLRALDQVN    killmotif_LPQL_A\n",
      "Name: shortname, dtype: object\n"
     ]
    }
   ],
   "source": [
    "Seq2NewNameDict ={\n",
    "    'GSPGLPNGLLSGDEDFSSIADMDFSALLSQISS':'p65+GS',\n",
    "    'RAAGQSMDESGAAAATSYDCEVNAPIQGSRNLLQGEELLRALDQVN':'killmotif_LPQL_A_plus2As',\n",
    "    'RLLGQSMDESGAAAATSYDCEVNAPIQGSRNLLQGEELLRALDQVN':'killmotif_LPQL_A',\n",
    "    'RAAGQSMDESGGGGGTSYDCEVNAPIQGSRNLLQGEELLRALDQVN':'killmotif_LPQL_G_plus2As',\n",
    "    'PGAPNGAASGDEDFSSIADMDFSALLSQISS':'killmotif2',\n",
    "    'PGLPNGLLSGDEDFSSIADMDASAAASQISS':'killmotif1'\n",
    "    \n",
    "}\n",
    "for seq in Seq2NewNameDict.keys():\n",
    "    print masterDF[indx].shortname\n",
    "    indx = masterDF.ADseq==seq\n",
    "    temp = masterDF.shortname\n",
    "    temp[indx] = Seq2NewNameDict[seq]\n",
    "    masterDF.shortname = temp\n",
    "    print masterDF[indx].shortname"
   ]
  },
  {
   "cell_type": "markdown",
   "metadata": {
    "deletable": true,
    "editable": true
   },
   "source": [
    "### Correct the 'ADtype' indecies of the p65 L2Y variants that have an extra 2 AA at the start\n",
    "The length discrepancy messes up some downstream analyses"
   ]
  },
  {
   "cell_type": "code",
   "execution_count": 11,
   "metadata": {
    "collapsed": false,
    "deletable": true,
    "editable": true
   },
   "outputs": [
    {
     "name": "stdout",
     "output_type": "stream",
     "text": [
      "Before \n",
      "109 in the p65 column\n",
      "3 in the p65_Y2L column\n",
      "After\n",
      "106 in the p65 column\n",
      "6 in the p65_Y2L column\n"
     ]
    }
   ],
   "source": [
    "print 'Before \\n%i in the p65 column'% sum(masterDF.p65)\n",
    "print '%i in the p65_Y2L column'% sum(masterDF.p65_L2Y)\n",
    "Seqs =['GSPGAPNGAASGDEDFSSIADMDFSALLSQISS','GSPGLPNGLLSGDEDFSSIADMDFSALLSQISS','GSPGYPNGLLSGDEDFSSIADMDASAAASQISS']\n",
    "for seq in Seqs:\n",
    "    indx = masterDF.ADseq==seq\n",
    "    temp_p65 = masterDF.p65\n",
    "    temp_p65[indx] = 0\n",
    "    temp_p65_Y2L = masterDF.p65_L2Y\n",
    "    temp_p65_Y2L[indx]=1\n",
    "    masterDF.p65 = temp_p65\n",
    "    masterDF.p65_L2Y = temp_p65_Y2L\n",
    "# indx = masterDF.p65\n",
    "\n",
    "temp = masterDF[indx]\n",
    "temp.ADseq\n",
    "print 'After\\n%i in the p65 column'% sum(masterDF.p65)\n",
    "print '%i in the p65_Y2L column'% sum(masterDF.p65_L2Y)"
   ]
  },
  {
   "cell_type": "markdown",
   "metadata": {
    "deletable": true,
    "editable": true
   },
   "source": [
    "### Correct the 'PerturbAromatics' and 'PerturbCharge' columns to be boolean"
   ]
  },
  {
   "cell_type": "code",
   "execution_count": 12,
   "metadata": {
    "collapsed": false,
    "deletable": true,
    "editable": true
   },
   "outputs": [],
   "source": [
    "masterDF['PerturbAromatics']=(masterDF['PerturbAromatics']!=0)&(masterDF.shortname!='none')\n",
    "masterDF['PerturbCharge'] =(masterDF['PerturbCharge']!=0)&(masterDF.shortname!='none')\n",
    "masterDF['HandDesigned']=(masterDF.HandDesigned)&(masterDF.WT==False)"
   ]
  },
  {
   "cell_type": "code",
   "execution_count": 13,
   "metadata": {
    "collapsed": false,
    "deletable": true,
    "editable": true
   },
   "outputs": [
    {
     "name": "stdout",
     "output_type": "stream",
     "text": [
      "\n",
      "CITED2_N\n",
      "Total 117\n",
      "PerturbCharge 53\n",
      "PerturbAromatics 40\n",
      "HandDesigned 17\n",
      "Shuffle 6\n",
      "WT 1\n",
      "Sum of mut sets = 117\n",
      "\n",
      "Hif1-AD2_46\n",
      "Total 112\n",
      "PerturbCharge 53\n",
      "PerturbAromatics 28\n",
      "HandDesigned 21\n",
      "Shuffle 9\n",
      "WT 1\n",
      "Sum of mut sets = 112\n",
      "\n",
      "vp16N_C\n",
      "Total 73\n",
      "PerturbCharge 31\n",
      "PerturbAromatics 22\n",
      "HandDesigned 10\n",
      "Shuffle 9\n",
      "WT 1\n",
      "Sum of mut sets = 73\n",
      "\n",
      "stat3\n",
      "Total 111\n",
      "PerturbCharge 55\n",
      "PerturbAromatics 33\n",
      "HandDesigned 16\n",
      "Shuffle 6\n",
      "WT 1\n",
      "Sum of mut sets = 111\n",
      "\n",
      "p65\n",
      "Total 106\n",
      "PerturbCharge 53\n",
      "PerturbAromatics 33\n",
      "HandDesigned 10\n",
      "Shuffle 9\n",
      "WT 1\n",
      "Sum of mut sets = 106\n",
      "\n",
      "p65_L2Y\n",
      "Total 6\n",
      "PerturbCharge 0\n",
      "PerturbAromatics 0\n",
      "HandDesigned 6\n",
      "Shuffle 0\n",
      "WT 0\n",
      "Sum of mut sets = 6\n",
      "\n",
      "There are 525 variants in the library\n"
     ]
    }
   ],
   "source": [
    "# summarize mutation types\n",
    "Mutsets = ['PerturbCharge','PerturbAromatics','HandDesigned','Shuffle','WT']\n",
    "totals =[]\n",
    "for ad in ExtendedADlist:\n",
    "    temp = 0\n",
    "    print '\\n'+ad\n",
    "    indx = (masterDF[ad]==1)# &(masterDF[muttype]==1)\n",
    "    totals.append(sum(indx))\n",
    "    print '%s %i' %('Total',sum(indx))\n",
    "    for muttype in Mutsets:\n",
    "        indx = (masterDF[ad]==1) &(masterDF[muttype]==True)\n",
    "        print '%s %i' %(muttype,sum(indx))\n",
    "        temp+=sum(indx)\n",
    "    print 'Sum of mut sets = %i'% temp\n",
    "indx =(masterDF['PerturbCharge']==0)&(masterDF['PerturbAromatics']==0)&(masterDF['HandDesigned']==0)&(masterDF['Shuffle']==0)\n",
    "masterDF[indx]\n",
    "print '\\nThere are %i variants in the library'% sum(totals)"
   ]
  },
  {
   "cell_type": "code",
   "execution_count": 14,
   "metadata": {
    "collapsed": true,
    "deletable": true,
    "editable": true
   },
   "outputs": [],
   "source": [
    "# add column to indicate the 'SuperCharge' variants\n",
    "masterDF['Supercharge']= masterDF.apply(lambda row: 'supercharge' in row['shortname'],axis=1)\n"
   ]
  },
  {
   "cell_type": "code",
   "execution_count": 15,
   "metadata": {
    "collapsed": false,
    "deletable": true,
    "editable": true
   },
   "outputs": [
    {
     "data": {
      "image/png": "[encoded data removed]",
      "text/plain": [
       "<matplotlib.figure.Figure at 0x10ad29a10>"
      ]
     },
     "metadata": {},
     "output_type": "display_data"
    },
    {
     "data": {
      "text/html": [
       "<div>\n",
       "<table border=\"1\" class=\"dataframe\">\n",
       "  <thead>\n",
       "    <tr style=\"text-align: right;\">\n",
       "      <th></th>\n",
       "      <th>ADseq</th>\n",
       "      <th>shortname</th>\n",
       "    </tr>\n",
       "    <tr>\n",
       "      <th>ADseq</th>\n",
       "      <th></th>\n",
       "      <th></th>\n",
       "    </tr>\n",
       "  </thead>\n",
       "  <tbody>\n",
       "    <tr>\n",
       "      <th>GSPGAPNGAASGDEDFSSIADMDFSALLSQISS</th>\n",
       "      <td>GSPGAPNGAASGDEDFSSIADMDFSALLSQISS</td>\n",
       "      <td>L2Y_killmotif2</td>\n",
       "    </tr>\n",
       "    <tr>\n",
       "      <th>GSPGLPNGLLSGDEDFSSIADMDFSALLSQISS</th>\n",
       "      <td>GSPGLPNGLLSGDEDFSSIADMDFSALLSQISS</td>\n",
       "      <td>p65+GS</td>\n",
       "    </tr>\n",
       "    <tr>\n",
       "      <th>GSPGYPNGLLSGDEDFSEWADMDFSALLSQISS</th>\n",
       "      <td>GSPGYPNGLLSGDEDFSEWADMDFSALLSQISS</td>\n",
       "      <td>supercharge1</td>\n",
       "    </tr>\n",
       "    <tr>\n",
       "      <th>GSPGYPNGLLSGDEDFSSIADMDASAAASQISS</th>\n",
       "      <td>GSPGYPNGLLSGDEDFSSIADMDASAAASQISS</td>\n",
       "      <td>L2Y_killmotif1</td>\n",
       "    </tr>\n",
       "    <tr>\n",
       "      <th>GSPGYPNGLLSGDEDFSSIADMDFSALLSEWSS</th>\n",
       "      <td>GSPGYPNGLLSGDEDFSSIADMDFSALLSEWSS</td>\n",
       "      <td>supercharge3</td>\n",
       "    </tr>\n",
       "    <tr>\n",
       "      <th>GSPGYPNGLLSGDEDFSSIADMDFSDFLSQISS</th>\n",
       "      <td>GSPGYPNGLLSGDEDFSSIADMDFSDFLSQISS</td>\n",
       "      <td>supercharge2</td>\n",
       "    </tr>\n",
       "  </tbody>\n",
       "</table>\n",
       "</div>"
      ],
      "text/plain": [
       "                                                               ADseq  \\\n",
       "ADseq                                                                  \n",
       "GSPGAPNGAASGDEDFSSIADMDFSALLSQISS  GSPGAPNGAASGDEDFSSIADMDFSALLSQISS   \n",
       "GSPGLPNGLLSGDEDFSSIADMDFSALLSQISS  GSPGLPNGLLSGDEDFSSIADMDFSALLSQISS   \n",
       "GSPGYPNGLLSGDEDFSEWADMDFSALLSQISS  GSPGYPNGLLSGDEDFSEWADMDFSALLSQISS   \n",
       "GSPGYPNGLLSGDEDFSSIADMDASAAASQISS  GSPGYPNGLLSGDEDFSSIADMDASAAASQISS   \n",
       "GSPGYPNGLLSGDEDFSSIADMDFSALLSEWSS  GSPGYPNGLLSGDEDFSSIADMDFSALLSEWSS   \n",
       "GSPGYPNGLLSGDEDFSSIADMDFSDFLSQISS  GSPGYPNGLLSGDEDFSSIADMDFSDFLSQISS   \n",
       "\n",
       "                                        shortname  \n",
       "ADseq                                              \n",
       "GSPGAPNGAASGDEDFSSIADMDFSALLSQISS  L2Y_killmotif2  \n",
       "GSPGLPNGLLSGDEDFSSIADMDFSALLSQISS          p65+GS  \n",
       "GSPGYPNGLLSGDEDFSEWADMDFSALLSQISS    supercharge1  \n",
       "GSPGYPNGLLSGDEDFSSIADMDASAAASQISS  L2Y_killmotif1  \n",
       "GSPGYPNGLLSGDEDFSSIADMDFSALLSEWSS    supercharge3  \n",
       "GSPGYPNGLLSGDEDFSSIADMDFSDFLSQISS    supercharge2  "
      ]
     },
     "execution_count": 15,
     "metadata": {},
     "output_type": "execute_result"
    }
   ],
   "source": [
    "def visualize_AAset_DF(AD_DF,AAsets,AAset_Labels, colorSets,colname='shortname'):\n",
    "    fig3, axes = plt.subplots( figsize=(18,len(AD_DF)*.3+1))\n",
    "    ypos = 0\n",
    "    for j,entry in AD_DF.iterrows():\n",
    "        AD = entry.ADseq\n",
    "        for pos, ADaa in enumerate(AD):\n",
    "            plt.text(pos,ypos, ADaa, color='k',fontsize=14, fontweight='bold')\n",
    "        for i, aaList in enumerate(AAsets):\n",
    "            for pos, ADaa in enumerate(AD):\n",
    "                if ADaa in aaList:\n",
    "                    plt.text(pos,ypos, ADaa, color=colorSets[i],fontsize=14, fontweight='bold')\n",
    "        plt.text(pos+3,ypos,entry[colname],fontsize=12)\n",
    "        ypos+=1\n",
    "    plt.axis([-1, pos+12, ypos,-1])\n",
    "    plt.xticks([]),    plt.yticks([])\n",
    "    plt.title(entry.shortname)\n",
    "#     plt.savefig('Figures/'+Folder+'MutantList.png')\n",
    "    plt.show()\n",
    "AAsets= [['D','E'],['W','L','F','Y','M','I'],['K','R'],['S','T'],['P','G']]\n",
    "AAset_Labels = [ 'Negatives','Hyrdophobics','Positives','Phospho sites','Prolines & Glycines']\n",
    "colorSets = ['red','limegreen','blue','deepskyblue','darkviolet']\n",
    "\n",
    "\n",
    "indx = (masterDF.p65_L2Y)&(masterDF.HandDesigned)\n",
    "tempDF =masterDF[indx]\n",
    "visualize_AAset_DF(tempDF,AAsets,AAset_Labels, colorSets)\n",
    "tempDF[['ADseq','shortname']]"
   ]
  },
  {
   "cell_type": "markdown",
   "metadata": {
    "deletable": true,
    "editable": true
   },
   "source": [
    "# Add systematic name and hamming distance\n",
    "20210409"
   ]
  },
  {
   "cell_type": "code",
   "execution_count": 16,
   "metadata": {
    "collapsed": false,
    "deletable": true,
    "editable": true
   },
   "outputs": [],
   "source": [
    "#collapseAD boolean columns\n",
    "WTname2seqDict.update({'p65_L2Y':'GSPGYPNGLLSGDEDFSSIADMDASAAASQISS'})\n",
    "df = masterDF[['CITED2_N', 'stat3', 'Hif1-AD2_46','p65_L2Y', 'p65','vp16N_C']]\n",
    "masterDF['ADid'] = df.idxmax(1).to_frame('ADid')\n",
    "# make systematic names\n",
    "SystematicName = []\n",
    "Hamming = []\n",
    "for j, row in masterDF.iterrows():#for each AD\n",
    "    tempWT = WTname2seqDict[row.ADid]#find WT seq\n",
    "    tempname = ''\n",
    "    substitutions = []\n",
    "    tempSeq = row.ADseq\n",
    "    for i, aa in enumerate(tempSeq): # for each position\n",
    "        if aa != tempWT[i]: # if mismatch\n",
    "            coord = ADCoordinates[row.ADid][0]+i\n",
    "            substitutions.append('%s%i%s'%(tempWT[i],coord,aa))\n",
    "    tempname = ','.join(substitutions) # combine changes into a string\n",
    "    SystematicName.append(tempname)\n",
    "    Hamming.append(len(substitutions))\n",
    "masterDF['SystematicName']=SystematicName\n",
    "masterDF['Hamming']=Hamming\n",
    "# masterDF[['SystematicName','shortname']]"
   ]
  },
  {
   "cell_type": "markdown",
   "metadata": {
    "collapsed": true,
    "deletable": true,
    "editable": true
   },
   "source": [
    "# Calculate Omega for all the variants\n",
    "WFY vs Acidics\n",
    "WFYL vs Acidics"
   ]
  },
  {
   "cell_type": "code",
   "execution_count": 17,
   "metadata": {
    "collapsed": false,
    "deletable": true,
    "editable": true
   },
   "outputs": [],
   "source": [
    "Kappa, Omega, Omega_WFY_DE, Omega_WFYL_DE  = [],[],[],[] #added 20170828\n",
    "\n",
    "# Kappa and Omega are poorly defined if any set is <10% of the total sequence--skip those\n",
    "for line in masterDF.ADseq: # This analysis leaves out the leading 'M' from the start codon\n",
    "    thresh = np.ceil(0.1*len(line))\n",
    "    if ((line.count('D')+line.count('E'))<thresh)|((line.count('K')+line.count('R'))<thresh):\n",
    "        Kappa.append(np.nan)\n",
    "    else:\n",
    "        seq =  SequenceParameters(line)\n",
    "        Kappa.append(seq.get_kappa()) # kappa\n",
    "masterDF['Kappa']=Kappa\n",
    "\n",
    "# Classic Omega is E,D,K,R,P\n",
    "for line in masterDF.ADseq: # This analysis leaves out the leading 'M' from the start codon\n",
    "    thresh = np.ceil(0.1*len(line))\n",
    "    if (line.count('D')+line.count('E')+line.count('K')+line.count('R')+line.count('P'))<thresh:\n",
    "        Omega.append(np.nan)\n",
    "    else:\n",
    "        seq =  SequenceParameters(line)\n",
    "        Omega.append(seq.get_Omega()) # omega #added 20170828\n",
    "masterDF['Omega']=Omega\n",
    "\n",
    "for line in masterDF.ADseq: # This analysis leaves out the leading 'M' from the start codon\n",
    "    thresh = np.ceil(0.1*len(line))\n",
    "    if ((line.count('D')+line.count('E'))<thresh)|((line.count('W')+line.count('F')+line.count('Y'))<thresh):\n",
    "        Omega_WFY_DE.append(np.nan)\n",
    "    else:\n",
    "        seq =  SequenceParameters(line)\n",
    "        Omega_WFY_DE.append(seq.get_kappa_X(['W','F','Y'],['D','E']))\n",
    "masterDF['Omega_WFY_DE']=Omega_WFY_DE\n",
    "\n",
    "for line in masterDF.ADseq: # This analysis leaves out the leading 'M' from the start codon\n",
    "    thresh = np.ceil(0.1*len(line))\n",
    "    if ((line.count('D')+line.count('E'))<thresh)|((line.count('W')+line.count('F')+line.count('Y')+line.count('L'))<thresh):\n",
    "        Omega_WFYL_DE.append(np.nan)\n",
    "    else:\n",
    "        seq =  SequenceParameters(line)\n",
    "        Omega_WFYL_DE.append(seq.get_kappa_X(['W','F','Y','L'],['D','E']))\n",
    "masterDF['Omega_WFYL_DE']=Omega_WFYL_DE\n"
   ]
  },
  {
   "cell_type": "code",
   "execution_count": 19,
   "metadata": {
    "collapsed": false,
    "deletable": true,
    "editable": true
   },
   "outputs": [
    {
     "data": {
      "image/png": "[encoded data removed]",
      "text/plain": [
       "<matplotlib.figure.Figure at 0x10ade57d0>"
      ]
     },
     "metadata": {},
     "output_type": "display_data"
    },
    {
     "data": {
      "image/png": "[encoded data removed]",
      "text/plain": [
       "<matplotlib.figure.Figure at 0x10ac9bc90>"
      ]
     },
     "metadata": {},
     "output_type": "display_data"
    },
    {
     "data": {
      "image/png": "[encoded data removed]",
      "text/plain": [
       "<matplotlib.figure.Figure at 0x10b6c86d0>"
      ]
     },
     "metadata": {},
     "output_type": "display_data"
    },
    {
     "data": {
      "image/png": "[encoded data removed]",
      "text/plain": [
       "<matplotlib.figure.Figure at 0x10b93ea50>"
      ]
     },
     "metadata": {},
     "output_type": "display_data"
    }
   ],
   "source": [
    "for col in ['Kappa', 'Omega', 'Omega_WFY_DE', 'Omega_WFYL_DE']:\n",
    "    masterDF.hist(col)\n",
    "    plt.show()\n",
    "\n"
   ]
  },
  {
   "cell_type": "code",
   "execution_count": 20,
   "metadata": {
    "collapsed": true,
    "deletable": true,
    "editable": true
   },
   "outputs": [],
   "source": [
    "masterDF.to_pickle('pickleFiles/MSS18_MasterDF_afterProcessingStep2_20210722')\n",
    "WTDF.to_pickle('pickleFiles/MSS18_WTDF_afterProcessingStep2_20210722')"
   ]
  },
  {
   "cell_type": "code",
   "execution_count": null,
   "metadata": {
    "collapsed": true,
    "deletable": true,
    "editable": true
   },
   "outputs": [],
   "source": []
  }
 ],
 "metadata": {
  "kernelspec": {
   "display_name": "Python 2",
   "language": "python",
   "name": "python2"
  },
  "language_info": {
   "codemirror_mode": {
    "name": "ipython",
    "version": 2
   },
   "file_extension": ".py",
   "mimetype": "text/x-python",
   "name": "python",
   "nbconvert_exporter": "python",
   "pygments_lexer": "ipython2",
   "version": "2.7.13"
  }
 },
 "nbformat": 4,
 "nbformat_minor": 2
}
